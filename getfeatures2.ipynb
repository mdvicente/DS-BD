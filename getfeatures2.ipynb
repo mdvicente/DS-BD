{
 "cells": [
  {
   "cell_type": "code",
   "execution_count": 12,
   "metadata": {
    "collapsed": false
   },
   "outputs": [],
   "source": [
    "import json\n",
    "from nltk.tokenize import word_tokenize\n",
    "from nltk.corpus import stopwords\n",
    "import re, string\n",
    "import pandas as pd\n",
    "from sklearn.feature_extraction.text import CountVectorizer\n",
    "fname = 'tweets.txt'"
   ]
  },
  {
   "cell_type": "code",
   "execution_count": 8,
   "metadata": {
    "collapsed": true
   },
   "outputs": [],
   "source": [
    "lines = [line.rstrip() for line in open(fname)]\n",
    "file = open(\"newfile.txt\", \"w\")"
   ]
  },
  {
   "cell_type": "code",
   "execution_count": 9,
   "metadata": {
    "collapsed": false
   },
   "outputs": [],
   "source": [
    "def checkTopic (topic, text):\n",
    "    if (set(topic) & set(text)):\n",
    "        return True\n",
    "    return False\n",
    "\n",
    "def bag_of_words(words):\n",
    "    if len(words) > 0:\n",
    "        return dict([(word, True) for word in words])\n",
    "\n",
    "stop = stopwords.words('english')"
   ]
  },
  {
   "cell_type": "code",
   "execution_count": 10,
   "metadata": {
    "collapsed": false
   },
   "outputs": [
    {
     "name": "stdout",
     "output_type": "stream",
     "text": [
      "{\n",
      "    \"contributors\": null, \n",
      "    \"coordinates\": null, \n",
      "    \"created_at\": \"Sun Jun 12 18:07:18 +0000 2016\", \n",
      "    \"entities\": {\n",
      "        \"hashtags\": [], \n",
      "        \"symbols\": [], \n",
      "        \"urls\": [], \n",
      "        \"user_mentions\": []\n",
      "    }, \n",
      "    \"favorite_count\": 0, \n",
      "    \"favorited\": false, \n",
      "    \"filter_level\": \"low\", \n",
      "    \"geo\": null, \n",
      "    \"id\": 742055693281288200, \n",
      "    \"id_str\": \"742055693281288193\", \n",
      "    \"in_reply_to_screen_name\": null, \n",
      "    \"in_reply_to_status_id\": null, \n",
      "    \"in_reply_to_status_id_str\": null, \n",
      "    \"in_reply_to_user_id\": null, \n",
      "    \"in_reply_to_user_id_str\": null, \n",
      "    \"is_quote_status\": false, \n",
      "    \"lang\": \"en\", \n",
      "    \"place\": null, \n",
      "    \"retweet_count\": 0, \n",
      "    \"retweeted\": false, \n",
      "    \"source\": \"<a href=\\\"http://twitter.com/download/iphone\\\" rel=\\\"nofollow\\\">Twitter for iPhone</a>\", \n",
      "    \"text\": \"Thread of my fav mutuals \\ud83d\\udc96\", \n",
      "    \"timestamp_ms\": \"1465754838663\", \n",
      "    \"truncated\": false, \n",
      "    \"user\": {\n",
      "        \"contributors_enabled\": false, \n",
      "        \"created_at\": \"Wed Nov 20 19:22:25 +0000 2013\", \n",
      "        \"default_profile\": false, \n",
      "        \"default_profile_image\": false, \n",
      "        \"description\": \"just needed time to, to find my own.\", \n",
      "        \"favourites_count\": 21669, \n",
      "        \"follow_request_sent\": null, \n",
      "        \"followers_count\": 11247, \n",
      "        \"following\": null, \n",
      "        \"friends_count\": 558, \n",
      "        \"geo_enabled\": true, \n",
      "        \"id\": 2205462907, \n",
      "        \"id_str\": \"2205462907\", \n",
      "        \"is_translator\": false, \n",
      "        \"lang\": \"pt\", \n",
      "        \"listed_count\": 52, \n",
      "        \"location\": \"3562.4 miles away to Pickering\", \n",
      "        \"name\": \"cus misses shawn :(\", \n",
      "        \"notifications\": null, \n",
      "        \"profile_background_color\": \"C0DEED\", \n",
      "        \"profile_background_image_url\": \"http://pbs.twimg.com/profile_background_images/504280325652873216/PnT0iM6p.png\", \n",
      "        \"profile_background_image_url_https\": \"https://pbs.twimg.com/profile_background_images/504280325652873216/PnT0iM6p.png\", \n",
      "        \"profile_background_tile\": true, \n",
      "        \"profile_banner_url\": \"https://pbs.twimg.com/profile_banners/2205462907/1464795622\", \n",
      "        \"profile_image_url\": \"http://pbs.twimg.com/profile_images/739525583139266560/sC50_G4k_normal.jpg\", \n",
      "        \"profile_image_url_https\": \"https://pbs.twimg.com/profile_images/739525583139266560/sC50_G4k_normal.jpg\", \n",
      "        \"profile_link_color\": \"89C9FA\", \n",
      "        \"profile_sidebar_border_color\": \"000000\", \n",
      "        \"profile_sidebar_fill_color\": \"DDEEF6\", \n",
      "        \"profile_text_color\": \"333333\", \n",
      "        \"profile_use_background_image\": true, \n",
      "        \"protected\": false, \n",
      "        \"screen_name\": \"soulmendes\", \n",
      "        \"statuses_count\": 199028, \n",
      "        \"time_zone\": \"Amsterdam\", \n",
      "        \"url\": \"http://ask.fm/shawnsoulmate\", \n",
      "        \"utc_offset\": 7200, \n",
      "        \"verified\": false\n",
      "    }\n",
      "}\n",
      "nf_timestamp 1465754838663\n",
      "nf_user soulmendes\n"
     ]
    }
   ],
   "source": [
    "json_input = lines[4]\n",
    "decoded = json.loads(json_input)\n",
    "    \n",
    "# pretty printing of json-formatted string\n",
    "print json.dumps(decoded, sort_keys=True, indent=4)\n",
    "\n",
    "nf_timestamp = decoded['timestamp_ms']\n",
    "print \"nf_timestamp\", nf_timestamp\n",
    "\n",
    "nf_user = decoded['user']['screen_name']\n",
    "print \"nf_user\", nf_user"
   ]
  },
  {
   "cell_type": "code",
   "execution_count": 11,
   "metadata": {
    "collapsed": false
   },
   "outputs": [
    {
     "name": "stdout",
     "output_type": "stream",
     "text": [
      "['terrorism']\n",
      "7 999 0\n"
     ]
    }
   ],
   "source": [
    "total = 0\n",
    "exception = 0\n",
    "topic = [\"terrorism\"]\n",
    "print topic\n",
    "\n",
    "for index in range(len(lines)):\n",
    "    json_input = lines[index]\n",
    "    decoded = json.loads(json_input)\n",
    "    \n",
    "    try:\n",
    "\n",
    "        nf_lang = decoded['user']['lang']\n",
    "        #print \"nf_lang\", nf_lang\n",
    "    \n",
    "        if nf_lang == 'en':\n",
    "            #print \"JSON parsing example: \", decoded['hashtags']\n",
    "            # cal treure entities and stop words\n",
    "            nf_tweet_text = decoded['text']\n",
    "            #print \"nf_tweet_text\", nf_tweet_text\n",
    "            nf_RT = (decoded['retweet_count']) > 0\n",
    "            #print \"nf_RT\", nf_RT\n",
    "            if nf_RT:\n",
    "                nf_rt_text = decoded['retweeted_status']['text']\n",
    "                nf_tweet_text = nf_rt_text\n",
    "            #print \"nf_tweet_text :: \", nf_tweet_text\n",
    "\n",
    "            #exclude punctuation in words\n",
    "            regex = re.compile('[%s]' % re.escape(string.punctuation))\n",
    "            nf_tweet_text = regex.sub('', nf_tweet_text)\n",
    "            \n",
    "            s = nf_tweet_text.split()          \n",
    "            #print(s)\n",
    " \n",
    "            # filtered = [word for words in s if word not in stopwords.words('english')]\n",
    "            nf_tweet_filtered_text = [i for i in s if i not in stop]\n",
    "            #print \"nf_tweet_filtered_text :: \", nf_tweet_filtered_text\n",
    "            nf_tweet_filtered_text = [element.lower() for element in nf_tweet_filtered_text]\n",
    "            \n",
    "            bag = bag_of_words(nf_tweet_filtered_text)\n",
    "\n",
    "            # check the topic\n",
    "            nf_positiu = checkTopic(topic, nf_tweet_filtered_text)\n",
    " \n",
    "            nf_words = []\n",
    "        \n",
    "            nf_count_hashtags = len(decoded['entities']['hashtags'])\n",
    "            #print \"nf_count_hastags\", nf_count_hashtags\n",
    "            nf_pos_first_hashtag = 0\n",
    "            nf_tweet_hashtags = []\n",
    "            if nf_count_hashtags > 0:\n",
    "                nf_pos_first_hashtag = decoded['entities']['hashtags'][0]['indices'][0]\n",
    "                #print \"nf_pos_first_hashtag\", nf_pos_first_hashtag\n",
    "                for i in range(nf_count_hashtags):\n",
    "                    nf_tweet_hashtags.append(decoded['entities']['hashtags'][i]['text'])\n",
    "                #print \"nf_tweet_hashtags\", nf_tweet_hashtags\n",
    "                nf_tweet_hashtags = [element.lower() for element in nf_tweet_hashtags]\n",
    "                nf_words.append(nf_tweet_hashtags)\n",
    "        \n",
    "            nf_count_urls = len(decoded['entities']['urls'])\n",
    "            #print \"nf_count_urls\", nf_count_urls\n",
    "            nf_pos_first_url = 0\n",
    "            nf_tweet_urls = []\n",
    "            if nf_count_urls > 0:\n",
    "                nf_pos_first_url = decoded['entities']['urls'][0]['indices'][0]\n",
    "                #print \"nf_pos_first_url\", nf_pos_first_url\n",
    "                for i in range (nf_count_urls):\n",
    "                    nf_tweet_urls.append(decoded['entities']['urls'][i]['url'])\n",
    "                #print nf_tweet_urls\n",
    "                #nf_tweet_urls = [element.lower() for element in nf_tweet_urls]\n",
    "                #nf_words.append(nf_tweet_urls)\n",
    "        \n",
    "            nf_count_mentions = len(decoded['entities']['user_mentions'])\n",
    "            #print \"nf_count_mentions\", nf_count_mentions\n",
    "            nf_pos_first_mention = 0\n",
    "            nf_tweet_mentions = []\n",
    "            if nf_count_mentions > 0:\n",
    "                nf_pos_first_mention = decoded['entities']['user_mentions'][0]['indices'][0]\n",
    "                #print \"nf_pos_first_mention\", nf_pos_first_mention    \n",
    "                for i in range(nf_count_mentions):\n",
    "                    nf_tweet_mentions.append(decoded['entities']['user_mentions'][i]['screen_name']) \n",
    "                #print \"nf_tweet_mentions\", nf_tweet_mentions\n",
    "                nf_tweet_mentions = [element.lower() for element in nf_tweet_mentions]\n",
    "                nf_words.append(nf_tweet_mentions) \n",
    "            \n",
    "            #print \"nf_words\", nf_words\n",
    "            #print \"topic\", topic\n",
    "            #print \"nf_positiu\", nf_positiu\n",
    "            if nf_positiu:\n",
    "                total = total + 1\n",
    "\n",
    "            num_list = [0]\n",
    "            if nf_pos_first_hashtag > 0:\n",
    "                num_list.append(nf_pos_first_hashtag)\n",
    "            if nf_pos_first_url > 0:\n",
    "                num_list.append(nf_pos_first_url)\n",
    "            if nf_pos_first_mention > 0:\n",
    "                num_list.append(nf_pos_first_mention)\n",
    "            nf_pos_first_entity = min(num_list)\n",
    "            #print \"nf_pos_first_entity\", nf_pos_first_entity\n",
    "\n",
    "            nf_user = decoded['user']['screen_name']\n",
    "            #print \"nf_user\", nf_user\n",
    "\n",
    "            nf_timestamp = decoded['timestamp_ms']\n",
    "            #print \"nf_timestamp\", nf_timestamp\n",
    "            \n",
    "            #file.write(nf_tweet_filtered_text, nf_positiu, nf_count_hashtags, nf_pos_first_hashtag)\n",
    "\n",
    "\n",
    "    except (KeyError):\n",
    "        print \"JSON format error\", KeyError, index\n",
    "        #print json.dumps(decoded, sort_keys=True, indent=4)\n",
    "        exception = exception + 1\n",
    "    except (ValueError):\n",
    "        print \"JSON format error\", ValueError, index\n",
    "        #print json.dumps(decoded, sort_keys=True, indent=4)\n",
    "        exception = exception + 1\n",
    "    except (TypeError):\n",
    "        print \"JSON format error\", TypeError, index\n",
    "        #print json.dumps(decoded, sort_keys=True, indent=4)\n",
    "        exception = exception + 1\n",
    "        \n",
    "\n",
    "print total, index, exception"
   ]
  },
  {
   "cell_type": "code",
   "execution_count": 92,
   "metadata": {
    "collapsed": true
   },
   "outputs": [],
   "source": [
    "file.close()"
   ]
  },
  {
   "cell_type": "code",
   "execution_count": null,
   "metadata": {
    "collapsed": true
   },
   "outputs": [],
   "source": []
  },
  {
   "cell_type": "code",
   "execution_count": null,
   "metadata": {
    "collapsed": true
   },
   "outputs": [],
   "source": []
  },
  {
   "cell_type": "code",
   "execution_count": null,
   "metadata": {
    "collapsed": true
   },
   "outputs": [],
   "source": []
  }
 ],
 "metadata": {
  "kernelspec": {
   "display_name": "Python 2",
   "language": "python",
   "name": "python2"
  },
  "language_info": {
   "codemirror_mode": {
    "name": "ipython",
    "version": 2
   },
   "file_extension": ".py",
   "mimetype": "text/x-python",
   "name": "python",
   "nbconvert_exporter": "python",
   "pygments_lexer": "ipython2",
   "version": "2.7.11"
  }
 },
 "nbformat": 4,
 "nbformat_minor": 0
}
